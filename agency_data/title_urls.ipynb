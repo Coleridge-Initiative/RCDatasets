{
 "cells": [
  {
   "cell_type": "code",
   "execution_count": 16,
   "metadata": {},
   "outputs": [],
   "source": [
    "import pandas as pd\n",
    "import re\n",
    "import json\n",
    "import xlrd"
   ]
  },
  {
   "cell_type": "code",
   "execution_count": 172,
   "metadata": {},
   "outputs": [],
   "source": [
    "ers_path = 'FY2014-19 Datasets for ERS Publications.xlsx'\n",
    "sheet_names = ['ATUS','Census Surveys', 'CES', 'CPS-FSS', 'Cost Est. Foodborne Illnesses'\n",
    "                   , 'FDA-FSIS-AMS', 'FADS-LAFA', 'FARA', 'FICRCD-CSFII', 'FNS', 'FoodAPS'\n",
    "                   ,'IRI', 'NHANES', 'Nielsen', 'Qtrly FAFH', 'SNAP Admin', 'TD Linx', 'SCH MEALS DATA']\n",
    "wb = openpyxl.load_workbook(ers_path)"
   ]
  },
  {
   "cell_type": "code",
   "execution_count": 184,
   "metadata": {},
   "outputs": [],
   "source": [
    "excel_df_list = []\n",
    "for n in sheet_names:\n",
    "    ws = wb[n]\n",
    "    df_list = []\n",
    "    for i in range(2, ws.max_row + 1):  # 2nd arg in range() not inclusive, so add 1\n",
    "        title = ws.cell(row = i,column = 4).value\n",
    "        datasets = ws.cell(row = i,column = 5).value\n",
    "        try:\n",
    "            link = ws.cell(row=i, column=4).hyperlink.target\n",
    "        except:\n",
    "            link = None\n",
    "        ers_df = pd.DataFrame({'title':title,'pub_url':link,'dataset':datasets},index = [i])\n",
    "        df_list.append(ers_df)\n",
    "    sheet_df = pd.concat(df_list)\n",
    "    sheet_df['sheet_name'] = n\n",
    "    excel_df_list.append(sheet_df)\n",
    "# df['link'] = links"
   ]
  },
  {
   "cell_type": "code",
   "execution_count": 185,
   "metadata": {},
   "outputs": [],
   "source": [
    "a = pd.concat(excel_df_list)"
   ]
  },
  {
   "cell_type": "code",
   "execution_count": 186,
   "metadata": {},
   "outputs": [],
   "source": [
    "b  = a.dropna(subset = ['title'])"
   ]
  },
  {
   "cell_type": "code",
   "execution_count": 188,
   "metadata": {},
   "outputs": [],
   "source": [
    "# b"
   ]
  },
  {
   "cell_type": "code",
   "execution_count": null,
   "metadata": {},
   "outputs": [],
   "source": [
    "b.to_csv('ers_linkages.csv',index = False)"
   ]
  }
 ],
 "metadata": {
  "kernelspec": {
   "display_name": "Python 3",
   "language": "python",
   "name": "python3"
  },
  "language_info": {
   "codemirror_mode": {
    "name": "ipython",
    "version": 3
   },
   "file_extension": ".py",
   "mimetype": "text/x-python",
   "name": "python",
   "nbconvert_exporter": "python",
   "pygments_lexer": "ipython3",
   "version": "3.7.3"
  }
 },
 "nbformat": 4,
 "nbformat_minor": 2
}
