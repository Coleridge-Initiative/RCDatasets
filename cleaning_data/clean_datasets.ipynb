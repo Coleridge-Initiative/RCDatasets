{
 "cells": [
  {
   "cell_type": "code",
   "execution_count": 29,
   "metadata": {},
   "outputs": [],
   "source": [
    "import json\n",
    "import pandas as pd"
   ]
  },
  {
   "cell_type": "code",
   "execution_count": 105,
   "metadata": {},
   "outputs": [],
   "source": [
    "with open('../datasets.json') as json_file:\n",
    "    datasets = json.load(json_file)"
   ]
  },
  {
   "cell_type": "code",
   "execution_count": 89,
   "metadata": {},
   "outputs": [],
   "source": [
    "data_providers = list(set([d['data_provider'] for d in datasets]))"
   ]
  },
  {
   "cell_type": "code",
   "execution_count": 69,
   "metadata": {},
   "outputs": [],
   "source": [
    "for d in datasets:\n",
    "    if pd.isnull(d['data_provider']) and not pd.isnull(d['data_steward']):\n",
    "        d['data_provider_new'] = d['data_steward']\n",
    "    elif not pd.isnull(d['data_provider']):\n",
    "        if 'Deutsche Bundesbank' in d['data_provider']:\n",
    "            d['data_provider_new'] = 'Deutsche Bundesbank'\n",
    "        elif 'Deutsche Bundesbank' not in d['data_provider']:\n",
    "            d['data_provider_new'] = d['data_provider']"
   ]
  },
  {
   "cell_type": "code",
   "execution_count": 81,
   "metadata": {},
   "outputs": [],
   "source": [
    "tanf_sets = []\n",
    "geo_list = []\n",
    "for d in datasets:\n",
    "    if \"Statewide surveys of single-parent TANF recipients\" in d['title']:\n",
    "        geo_list.append(d['geography'])\n",
    "#         new_dict = {'title': \"Statewide surveys of single-parent TANF recipients\"\n",
    "#                     ,'data_provider':d['data_provider']\n",
    "#                    }\n",
    "#         tanf_sets.append(d)\n",
    "    elif \"Statewide surveys of single-parent TANF recipients\" not in d['title']:\n",
    "        pass\n",
    "\n",
    "# t.update({'title': \"Statewide surveys of single-parent TANF recipients\"\n",
    "#                     ,'data_provider':'Health and Human Services'}) for f in tanf_sets"
   ]
  },
  {
   "cell_type": "code",
   "execution_count": 86,
   "metadata": {},
   "outputs": [],
   "source": [
    "# geo_list\n",
    "tanf_sets = {\"title\":\"Statewide surveys of single-parent TANF recipients\",\n",
    "  \"data_provider\": \"Health and Human Services\",\n",
    " \"temporal_coverage_start\": \"2002\",\n",
    " \"geographical_coverage\": geo_list,\n",
    "    \"geographical_unit\": \"state\"}"
   ]
  },
  {
   "cell_type": "code",
   "execution_count": 87,
   "metadata": {},
   "outputs": [
    {
     "data": {
      "text/plain": [
       "{'title': 'Statewide surveys of single-parent TANF recipients',\n",
       " 'data_provider': 'Health and Human Services',\n",
       " 'temporal_coverage_start': '2002',\n",
       " 'geographical_coverage': ['CO', 'DC', 'IL', 'MD', 'MO', 'SC'],\n",
       " 'geographical_unit': 'state'}"
      ]
     },
     "execution_count": 87,
     "metadata": {},
     "output_type": "execute_result"
    }
   ],
   "source": [
    "tanf_sets"
   ]
  },
  {
   "cell_type": "code",
   "execution_count": 75,
   "metadata": {},
   "outputs": [
    {
     "data": {
      "text/plain": [
       "[{'title': 'Statewide surveys of single-parent TANF recipients in CO from 2002',\n",
       "  'data_provider': 'Health and Human Services',\n",
       "  'geography': 'CO',\n",
       "  'alias': ['Statewide surveys of single-parent TANF recipients in Colorado from 2002'],\n",
       "  'dataset_id': 'dataset-a606ea8d378acd95caf5',\n",
       "  'dataset_id_metadata': {'dataset_id': 'dataset-a606ea8d378acd95caf5',\n",
       "   'hashed_columns': ['title', 'data_provider'],\n",
       "   'date_created': '2019-09-01'},\n",
       "  'data_provider_new': 'Health and Human Services'},\n",
       " {'title': 'Statewide surveys of single-parent TANF recipients in DC from 2002',\n",
       "  'data_provider': 'Health and Human Services',\n",
       "  'geography': 'DC',\n",
       "  'alias': ['Statewide surveys of single-parent TANF recipients in Washington D.C. from 2002'],\n",
       "  'dataset_id': 'dataset-310c7b592941a7c1b321',\n",
       "  'dataset_id_metadata': {'dataset_id': 'dataset-310c7b592941a7c1b321',\n",
       "   'hashed_columns': ['title', 'data_provider'],\n",
       "   'date_created': '2019-09-01'},\n",
       "  'data_provider_new': 'Health and Human Services'},\n",
       " {'title': 'Statewide surveys of single-parent TANF recipients in IL from 2002',\n",
       "  'data_provider': 'Health and Human Services',\n",
       "  'geography': 'IL',\n",
       "  'alias': ['Statewide surveys of single-parent TANF recipients in Illinois from 2002'],\n",
       "  'dataset_id': 'dataset-a3a4aa3b8469c539eacd',\n",
       "  'dataset_id_metadata': {'dataset_id': 'dataset-a3a4aa3b8469c539eacd',\n",
       "   'hashed_columns': ['title', 'data_provider'],\n",
       "   'date_created': '2019-09-01'},\n",
       "  'data_provider_new': 'Health and Human Services'},\n",
       " {'title': 'Statewide surveys of single-parent TANF recipients in MD from 2002',\n",
       "  'data_provider': 'Health and Human Services',\n",
       "  'geography': 'MD',\n",
       "  'alias': ['Statewide surveys of single-parent TANF recipients in Maryland from 2002'],\n",
       "  'dataset_id': 'dataset-623d9ff0e91a26f05601',\n",
       "  'dataset_id_metadata': {'dataset_id': 'dataset-623d9ff0e91a26f05601',\n",
       "   'hashed_columns': ['title', 'data_provider'],\n",
       "   'date_created': '2019-09-01'},\n",
       "  'data_provider_new': 'Health and Human Services'},\n",
       " {'title': 'Statewide surveys of single-parent TANF recipients in MO from 2002',\n",
       "  'data_provider': 'Health and Human Services',\n",
       "  'geography': 'MO',\n",
       "  'alias': ['Statewide surveys of single-parent TANF recipients in Montana from 2002'],\n",
       "  'dataset_id': 'dataset-43a76857c9ae658d7053',\n",
       "  'dataset_id_metadata': {'dataset_id': 'dataset-43a76857c9ae658d7053',\n",
       "   'hashed_columns': ['title', 'data_provider'],\n",
       "   'date_created': '2019-09-01'},\n",
       "  'data_provider_new': 'Health and Human Services'},\n",
       " {'title': 'Statewide surveys of single-parent TANF recipients in SC from 2002',\n",
       "  'data_provider': 'Health and Human Services',\n",
       "  'geography': 'SC',\n",
       "  'alias': 'Statewide surveys of single-parent TANF recipients in South Carolina from 2002',\n",
       "  'dataset_id': 'dataset-2e73dcf3bb1ea41e0bd4',\n",
       "  'dataset_id_metadata': {'dataset_id': 'dataset-2e73dcf3bb1ea41e0bd4',\n",
       "   'hashed_columns': ['title', 'data_provider'],\n",
       "   'date_created': '2019-09-01'},\n",
       "  'data_provider_new': 'Health and Human Services'}]"
      ]
     },
     "execution_count": 75,
     "metadata": {},
     "output_type": "execute_result"
    }
   ],
   "source": [
    "tanf_sets"
   ]
  },
  {
   "cell_type": "code",
   "execution_count": 70,
   "metadata": {},
   "outputs": [],
   "source": [
    "data_providers_new = list(set([d['data_provider_new'] for d in datasets]))"
   ]
  },
  {
   "cell_type": "code",
   "execution_count": 109,
   "metadata": {},
   "outputs": [],
   "source": [
    "titles =list(set([d['title'] for d in datasets]))"
   ]
  },
  {
   "cell_type": "code",
   "execution_count": 110,
   "metadata": {},
   "outputs": [
    {
     "data": {
      "text/plain": [
       "['Missouri Department of Labor and Industrial Relations (DOLIR) Unemployment Insurance Payments',\n",
       " 'Child support data',\n",
       " 'Securities Holdings Statistics - Base',\n",
       " 'UI administrative data',\n",
       " 'External Position of Banks',\n",
       " 'Missouri Unemployment Insurance (UI) wage 2006-2016',\n",
       " 'Devolution and Urban Change',\n",
       " 'Statistics on International Trade in Services',\n",
       " 'STEP',\n",
       " 'Zentralkartei Banken',\n",
       " 'Centralised Securities Database',\n",
       " 'TARGET2',\n",
       " 'Kansas City, Missouri Water Customer Data',\n",
       " 'Indiana wage records by quarter 2005-2018',\n",
       " 'Microdatabase Direct Investment',\n",
       " 'Illinois Department of Employment Security (IDES) Employer records - 2005-2015',\n",
       " 'Administrative data',\n",
       " 'W-2 data',\n",
       " \"Pennsylvania's Department of Public Welfare\",\n",
       " 'Health and Human Services data',\n",
       " 'Substance abuse testing data',\n",
       " 'Wages data',\n",
       " 'Payment behaviour in Germany',\n",
       " 'IRI Consumer Network',\n",
       " 'BAKIS-M',\n",
       " 'Illinois Department of Human Services (IDHS) Head of Household Files',\n",
       " 'Philadelphia TANF data',\n",
       " 'The Kansas City Star Full Text Business Section Articles - May 2016 - April 2018',\n",
       " 'Relocation Assistance Program',\n",
       " 'Oregon Medicaid',\n",
       " \"Women's Employment Study\",\n",
       " 'National Household Food Acquisition and Purchase Survey',\n",
       " 'Family Investment Program',\n",
       " 'Monthly balance sheet statistics',\n",
       " 'Illinois Department of Human Services (IDHS) Spell Files: Time-Varying Characteristics',\n",
       " 'Kansas City Missouri census tracts with flag for East or West of Troost Street',\n",
       " 'Food Stamp data',\n",
       " 'Missouri Unemployment Insurance (UI) wage 2006-2017',\n",
       " 'Women, Infants and Children',\n",
       " 'Salt Lake County data',\n",
       " 'Bank Lending Survey',\n",
       " 'Missouri Department of Higher Education (DHE) - Term Registrations, 2006-2017',\n",
       " 'Missouri Department of Higher Education (DHE) - Enrollments, 2006-2016',\n",
       " 'Cleveland data',\n",
       " 'Missouri Department of Higher Education (DHE) - Completions, 2006-2017',\n",
       " 'Work First program data',\n",
       " 'Missouri Department of Corrections (DOC) - Releases',\n",
       " 'Indiana Public Higher Education Degree Completions 2005-2006 Through 2017-2018',\n",
       " 'Cuyahoga County TANF data',\n",
       " 'Cleveland TANF data',\n",
       " 'IL Corrections Industries Training dataset',\n",
       " 'Missouri Census LEHD Employer records - 2006-2016',\n",
       " 'UI wage records',\n",
       " 'Family Program Development data',\n",
       " 'Missouri Department of Corrections (DOC) - Classes',\n",
       " 'Illinois Department of Corrections (DOC) Parolee address data - 2009-2015',\n",
       " 'Medicaid data',\n",
       " 'Earnings data',\n",
       " 'Illinois Department of Employment Security (IDES) establishment data addendum to employer records - 2012-2015',\n",
       " 'Child care subsidy administrative data',\n",
       " 'US Department of Housing and Urban Development Program Microdata 2004-2016 - Households: New York',\n",
       " 'US Department of Housing and Urban Development Program Microdata 2004-2016 - Individuals: New York',\n",
       " 'Family Transition Program',\n",
       " 'Illinois Department of Corrections (IDOC) SPSS Holding Codes (HCLASS) and Education Level (EDUCLVL)',\n",
       " 'DFCS',\n",
       " 'Kansas City Police Department Crime Data 2009-2018',\n",
       " 'Investment Funds Statistics - Base',\n",
       " 'Child welfare data',\n",
       " 'NY administrative data',\n",
       " 'Corporate balance sheets',\n",
       " 'Missouri Census LEHD Employer records - 2006-2017',\n",
       " 'OECD Survey on Adult Financial Literacy in Germany',\n",
       " 'Supplemental Nutrition Assistance Program',\n",
       " 'CalWORKS recipients earning report data',\n",
       " 'Progress and Services Report',\n",
       " 'Indiana wage records by employer 2005-2018',\n",
       " 'Panel on Household Finances',\n",
       " 'Employment data',\n",
       " 'Indiana Public Higher Education Enrollments, 2005-2006 Through 2017-2018',\n",
       " 'Temporary Assistance for Needy Families',\n",
       " 'Missouri Department of Corrections (DOC) - Hashed SSN to Hashed MO DOC ID Crosswalk',\n",
       " 'Illinois Department of Corrections Person Relation Table',\n",
       " 'Missouri Department of Labor and Industrial Relations (DOLIR) Unemployment Insurance Claims',\n",
       " 'Understanding the Transition from Cash Assistance Receipt to Employment',\n",
       " 'TANF data',\n",
       " 'State of Michigan',\n",
       " 'Illinois Department of Corrections (DOC) Inmate Admissions 1990-2015',\n",
       " 'US Department of Housing and Urban Development Program Microdata 2004-2016 - Households: Illinois',\n",
       " 'National Directory of New Hires',\n",
       " 'Miami-Dade TANF data',\n",
       " 'Illinois Department of Human Services (IDHS) Point-In-Time Files: Time Invariant Characteristics',\n",
       " 'Illinois Department of Corrections (DOC) Inmate Exits - 1990-2015',\n",
       " 'TANF Exit survey',\n",
       " 'Annual Distress Database of the Deutsche Bundesbank',\n",
       " 'Statistics of the banks’ profit and loss accounts',\n",
       " 'MFI Interest Rate Statistics',\n",
       " 'TWC',\n",
       " 'State of Wisconsin data',\n",
       " 'IRI InfoScan',\n",
       " 'US Department of Housing and Urban Development Program Microdata 2004-2016 - Individuals: Illinois',\n",
       " 'Illinois Department of Human Services (IDHS) Cases Cancelled Due to Earnings and Newly Employed ',\n",
       " 'Milwaukee County, WI TANF data',\n",
       " 'SSRC',\n",
       " 'Cuyahoga TANF',\n",
       " 'Los Angeles TANF data',\n",
       " 'Statewide surveys of single-parent TANF recipients',\n",
       " 'Current population survey',\n",
       " 'Quarterly borrower statistics',\n",
       " 'Illinois Department of Employment Security (IDES) Unemployment Insurance (UI) wage records - 2005-2015',\n",
       " 'UI data',\n",
       " 'Cuyahoga County data',\n",
       " 'MiMiK']"
      ]
     },
     "execution_count": 110,
     "metadata": {},
     "output_type": "execute_result"
    }
   ],
   "source": [
    "titles"
   ]
  },
  {
   "cell_type": "code",
   "execution_count": 92,
   "metadata": {},
   "outputs": [],
   "source": [
    "# [d['title'] for d in datasets if d['data_provider'] == \"Illinois Department of Employment Security, US Census Bureau\"]\n",
    "# [d['title'] for d in datasets if d['data_provider'] == \"Illinois Department of Human Services (IDHS), Chapin Hall at the University of Chicago\"]\n",
    "\n",
    "# overlap_names = list(set([(d['title'],d['data_provider'],d['data_provider_new']) for d in datasets if d['data_provider_new'] in d['title']]))\n",
    "\n",
    "# list(set([(d['title'],d['data_provider']) for d in datasets if  'Deutsche Bundesbank' in d['data_provider']]))\n",
    "\n"
   ]
  },
  {
   "cell_type": "code",
   "execution_count": 106,
   "metadata": {},
   "outputs": [],
   "source": [
    "bb_list = []\n",
    "for d in datasets:\n",
    "    try:\n",
    "        if 'Deutsche Bundesbank' in d['data_provider']:\n",
    "            bb_list.append(d['data_provider'])\n",
    "        elif 'Deutsche Bundesbank' not in d['data_provider']:\n",
    "            pass\n",
    "    except:\n",
    "        pass\n",
    "            "
   ]
  },
  {
   "cell_type": "code",
   "execution_count": 107,
   "metadata": {},
   "outputs": [
    {
     "data": {
      "text/plain": [
       "1"
      ]
     },
     "execution_count": 107,
     "metadata": {},
     "output_type": "execute_result"
    }
   ],
   "source": [
    "len(list(set(bb_list)))"
   ]
  },
  {
   "cell_type": "code",
   "execution_count": 108,
   "metadata": {},
   "outputs": [
    {
     "data": {
      "text/plain": [
       "['Deutsche Bundesbank',\n",
       " 'Deutsche Bundesbank',\n",
       " 'Deutsche Bundesbank',\n",
       " 'Deutsche Bundesbank',\n",
       " 'Deutsche Bundesbank',\n",
       " 'Deutsche Bundesbank',\n",
       " 'Deutsche Bundesbank',\n",
       " 'Deutsche Bundesbank',\n",
       " 'Deutsche Bundesbank',\n",
       " 'Deutsche Bundesbank',\n",
       " 'Deutsche Bundesbank',\n",
       " 'Deutsche Bundesbank',\n",
       " 'Deutsche Bundesbank',\n",
       " 'Deutsche Bundesbank',\n",
       " 'Deutsche Bundesbank',\n",
       " 'Deutsche Bundesbank']"
      ]
     },
     "execution_count": 108,
     "metadata": {},
     "output_type": "execute_result"
    }
   ],
   "source": [
    "bb_list"
   ]
  },
  {
   "cell_type": "code",
   "execution_count": null,
   "metadata": {},
   "outputs": [],
   "source": []
  }
 ],
 "metadata": {
  "kernelspec": {
   "display_name": "Python 3",
   "language": "python",
   "name": "python3"
  },
  "language_info": {
   "codemirror_mode": {
    "name": "ipython",
    "version": 3
   },
   "file_extension": ".py",
   "mimetype": "text/x-python",
   "name": "python",
   "nbconvert_exporter": "python",
   "pygments_lexer": "ipython3",
   "version": "3.7.3"
  }
 },
 "nbformat": 4,
 "nbformat_minor": 2
}
