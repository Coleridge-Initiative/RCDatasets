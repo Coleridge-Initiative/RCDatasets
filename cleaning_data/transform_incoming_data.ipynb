{
 "cells": [
  {
   "cell_type": "code",
   "execution_count": 17,
   "metadata": {},
   "outputs": [],
   "source": [
    "import pandas as pd\n",
    "import json\n",
    "import re\n",
    "from string import punctuation\n"
   ]
  },
  {
   "cell_type": "code",
   "execution_count": 5,
   "metadata": {},
   "outputs": [],
   "source": [
    "ers_pubs = pd.read_excel('FY2014-19 Datasets for ERS Publications.xlsx', header = 1)"
   ]
  },
  {
   "cell_type": "code",
   "execution_count": 6,
   "metadata": {},
   "outputs": [
    {
     "data": {
      "text/html": [
       "<div>\n",
       "<style scoped>\n",
       "    .dataframe tbody tr th:only-of-type {\n",
       "        vertical-align: middle;\n",
       "    }\n",
       "\n",
       "    .dataframe tbody tr th {\n",
       "        vertical-align: top;\n",
       "    }\n",
       "\n",
       "    .dataframe thead th {\n",
       "        text-align: right;\n",
       "    }\n",
       "</style>\n",
       "<table border=\"1\" class=\"dataframe\">\n",
       "  <thead>\n",
       "    <tr style=\"text-align: right;\">\n",
       "      <th></th>\n",
       "      <th>Author</th>\n",
       "      <th>Series</th>\n",
       "      <th>Released</th>\n",
       "      <th>Title</th>\n",
       "      <th>Datasets</th>\n",
       "      <th>Unnamed: 5</th>\n",
       "    </tr>\n",
       "  </thead>\n",
       "  <tbody>\n",
       "    <tr>\n",
       "      <th>0</th>\n",
       "      <td>Prell</td>\n",
       "      <td>ERR-157</td>\n",
       "      <td>2013-11-07</td>\n",
       "      <td>Participation in SNAP and Unemployment Insuran...</td>\n",
       "      <td>▪Annual Social and Economic (ASEC) Supplement ...</td>\n",
       "      <td>NaN</td>\n",
       "    </tr>\n",
       "    <tr>\n",
       "      <th>1</th>\n",
       "      <td>Volpe</td>\n",
       "      <td>ERR-160</td>\n",
       "      <td>2013-11-26</td>\n",
       "      <td>How Transportation Costs Affect Fresh Fruit an...</td>\n",
       "      <td>▪USDA Agricultural Marketing Service (AMS)</td>\n",
       "      <td>NaN</td>\n",
       "    </tr>\n",
       "    <tr>\n",
       "      <th>2</th>\n",
       "      <td>Oliveira</td>\n",
       "      <td>EIB-119</td>\n",
       "      <td>2013-12-02</td>\n",
       "      <td>Trends in Infant Formula Rebate Contracts: Imp...</td>\n",
       "      <td>▪Food and Nutrition Service ▪Center on Budget ...</td>\n",
       "      <td>NaN</td>\n",
       "    </tr>\n",
       "    <tr>\n",
       "      <th>3</th>\n",
       "      <td>Todd</td>\n",
       "      <td>ERR-161</td>\n",
       "      <td>2014-01-16</td>\n",
       "      <td>Changes in Eating Patterns and Diet Quality Am...</td>\n",
       "      <td>▪National Health and Nutrition Examination Sur...</td>\n",
       "      <td>NaN</td>\n",
       "    </tr>\n",
       "    <tr>\n",
       "      <th>4</th>\n",
       "      <td>Buzby</td>\n",
       "      <td>EIB-121</td>\n",
       "      <td>2014-02-20</td>\n",
       "      <td>The Estimated Amount, Value, and Calories of P...</td>\n",
       "      <td>▪ERS per capita Food Availability data</td>\n",
       "      <td>NaN</td>\n",
       "    </tr>\n",
       "  </tbody>\n",
       "</table>\n",
       "</div>"
      ],
      "text/plain": [
       "     Author   Series   Released  \\\n",
       "0     Prell  ERR-157 2013-11-07   \n",
       "1     Volpe  ERR-160 2013-11-26   \n",
       "2  Oliveira  EIB-119 2013-12-02   \n",
       "3      Todd  ERR-161 2014-01-16   \n",
       "4     Buzby  EIB-121 2014-02-20   \n",
       "\n",
       "                                               Title  \\\n",
       "0  Participation in SNAP and Unemployment Insuran...   \n",
       "1  How Transportation Costs Affect Fresh Fruit an...   \n",
       "2  Trends in Infant Formula Rebate Contracts: Imp...   \n",
       "3  Changes in Eating Patterns and Diet Quality Am...   \n",
       "4  The Estimated Amount, Value, and Calories of P...   \n",
       "\n",
       "                                            Datasets  Unnamed: 5  \n",
       "0  ▪Annual Social and Economic (ASEC) Supplement ...         NaN  \n",
       "1        ▪USDA Agricultural Marketing Service (AMS)          NaN  \n",
       "2  ▪Food and Nutrition Service ▪Center on Budget ...         NaN  \n",
       "3  ▪National Health and Nutrition Examination Sur...         NaN  \n",
       "4             ▪ERS per capita Food Availability data         NaN  "
      ]
     },
     "execution_count": 6,
     "metadata": {},
     "output_type": "execute_result"
    }
   ],
   "source": [
    "ers_pubs.head()"
   ]
  },
  {
   "cell_type": "code",
   "execution_count": 23,
   "metadata": {},
   "outputs": [
    {
     "data": {
      "text/plain": [
       "[['',\n",
       "  'Annual Social and Economic (ASEC) Supplement (formerly, the Annual Demographic File) ',\n",
       "  'Current Population Survey (CPS)'],\n",
       " ['', 'USDA Agricultural Marketing Service (AMS) '],\n",
       " ['',\n",
       "  'Food and Nutrition Service ',\n",
       "  'Center on Budget and Policy Priorities ',\n",
       "  '2008 proprietary report prepared for ERS by the Nielsen Company'],\n",
       " ['', 'National Health and Nutrition Examination Survey (NHANES) '],\n",
       " ['', 'ERS per capita Food Availability data'],\n",
       " ['', 'USDA’s Food and Nutrition Service (FNS)'],\n",
       " ['',\n",
       "  'Current Population Survey Food Security Supplement\\n(CPS-FSS) from 2001 to 2012'],\n",
       " ['',\n",
       "  '2007-08 and 2009-10 waves of the National Health and\\nNutrition Examination Survey (NHANES) ',\n",
       "  'Flexible Consumer Behavior Survey module (FCBS)'],\n",
       " ['',\n",
       "  'supplement to the Current Population Survey (CPS) ',\n",
       "  'U.S. Census Bureau']]"
      ]
     },
     "execution_count": 23,
     "metadata": {},
     "output_type": "execute_result"
    }
   ],
   "source": [
    "ers_datasets = ers_pubs['Datasets'].unique().tolist()\n",
    "# [e.replace()ers_datasets\n",
    "# [re.sub('[^A-Za-z0-9]+', ' ', e).strip() for e in ers_datasets]\n",
    "# [re.sub('▪', ',', e).strip(punctuation) for e in ers_datasets]\n",
    "ers_datasets_clean = [e.split('▪') for e in ers_datasets]\n",
    "\n"
   ]
  },
  {
   "cell_type": "code",
   "execution_count": null,
   "metadata": {},
   "outputs": [],
   "source": [
    "from string import punctuation\n",
    "s = '.$ABC-799-99,#'\n",
    "\n",
    "print(s.strip(punctuation))"
   ]
  }
 ],
 "metadata": {
  "kernelspec": {
   "display_name": "Python 3",
   "language": "python",
   "name": "python3"
  },
  "language_info": {
   "codemirror_mode": {
    "name": "ipython",
    "version": 3
   },
   "file_extension": ".py",
   "mimetype": "text/x-python",
   "name": "python",
   "nbconvert_exporter": "python",
   "pygments_lexer": "ipython3",
   "version": "3.7.3"
  }
 },
 "nbformat": 4,
 "nbformat_minor": 2
}
