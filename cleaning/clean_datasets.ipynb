{
 "cells": [
  {
   "cell_type": "code",
   "execution_count": 29,
   "metadata": {},
   "outputs": [],
   "source": [
    "import json\n",
    "import pandas as pd"
   ]
  },
  {
   "cell_type": "code",
   "execution_count": 67,
   "metadata": {},
   "outputs": [],
   "source": [
    "with open('../datasets.json') as json_file:\n",
    "    datasets = json.load(json_file)"
   ]
  },
  {
   "cell_type": "code",
   "execution_count": 68,
   "metadata": {},
   "outputs": [],
   "source": [
    "data_providers = list(set([d['data_provider'] for d in datasets]))"
   ]
  },
  {
   "cell_type": "code",
   "execution_count": 69,
   "metadata": {},
   "outputs": [],
   "source": [
    "for d in datasets:\n",
    "    if pd.isnull(d['data_provider']) and not pd.isnull(d['data_steward']):\n",
    "        d['data_provider_new'] = d['data_steward']\n",
    "    elif not pd.isnull(d['data_provider']):\n",
    "        if 'Deutsche Bundesbank' in d['data_provider']:\n",
    "            d['data_provider_new'] = 'Deutsche Bundesbank'\n",
    "        elif 'Deutsche Bundesbank' not in d['data_provider']:\n",
    "            d['data_provider_new'] = d['data_provider']"
   ]
  },
  {
   "cell_type": "code",
   "execution_count": 70,
   "metadata": {},
   "outputs": [],
   "source": [
    "data_providers_new = list(set([d['data_provider_new'] for d in datasets]))"
   ]
  },
  {
   "cell_type": "code",
   "execution_count": 71,
   "metadata": {},
   "outputs": [
    {
     "data": {
      "text/plain": [
       "['Illinois Department of Corrections',\n",
       " 'NYC Center for Innovation through Data Intelligence, NYC Human Resources Administration, New York State Department of Labor, NYC Department of Corrections, NYC Department of Homeless Services, NYC Department of Social Services',\n",
       " 'Transitional Work Corporation',\n",
       " 'Board of Police Commissioners of Kansas City, Missouri',\n",
       " 'Department of Agriculture',\n",
       " 'New York State',\n",
       " 'MDRC',\n",
       " 'Bureau of Consular Affairs',\n",
       " 'Wisconsin State',\n",
       " 'The City of Kansas City',\n",
       " 'European System of Central Banks (ESCB)',\n",
       " 'Indiana Commission for Higher Education (CHE)',\n",
       " 'Missouri Office of Administration',\n",
       " 'State of Ohio',\n",
       " 'Missouri Department of Labor and Industrial Relations (DOLIR)',\n",
       " 'Health and Human Services',\n",
       " 'United States Department of Housing and Urban Development',\n",
       " 'US Department of Housing and Urban Development',\n",
       " 'United States Department of Agriculture (USDA)',\n",
       " 'The Kansas City Star',\n",
       " 'Department of Health',\n",
       " 'State of Wisconsin',\n",
       " 'State of Utah',\n",
       " 'Florida Department of Children and Families',\n",
       " 'European Central Bank (ECB)',\n",
       " 'Chapin Hall, University of Chicago',\n",
       " 'Illinois Department of Employment Security',\n",
       " 'Illinois Correctional Industries',\n",
       " 'Deutsche Bundesbank',\n",
       " 'Indiana Department of Workforce Development (DWD)',\n",
       " 'Department of Children, Youth & Families',\n",
       " 'Self-Sufficiency Research Clearinghouse',\n",
       " 'Bank Lending Survey Group in Vo-1',\n",
       " 'United States Census Bureau',\n",
       " 'Department of Children and Families',\n",
       " 'Department of Revenue',\n",
       " 'Illinois Department of Human Services (IDHS)',\n",
       " 'Department of Labor',\n",
       " 'Administration for Children & Families',\n",
       " 'Missouri Department of Higher Education (DHE)',\n",
       " 'Centers for Medicare and Medicaid',\n",
       " 'Department of Human Services',\n",
       " 'Missouri Department of Corrections (DOC)',\n",
       " 'California Department of Social Services',\n",
       " 'State of Michigan',\n",
       " 'Organisation for Economic Co-operation and Development (OECD)',\n",
       " 'Department of Family and Child Services',\n",
       " 'Pennsylvania Department of Human Services']"
      ]
     },
     "execution_count": 71,
     "metadata": {},
     "output_type": "execute_result"
    }
   ],
   "source": [
    "data_providers_new"
   ]
  },
  {
   "cell_type": "code",
   "execution_count": 55,
   "metadata": {},
   "outputs": [],
   "source": [
    "# [d['title'] for d in datasets if d['data_provider'] == \"Illinois Department of Employment Security, US Census Bureau\"]\n",
    "# [d['title'] for d in datasets if d['data_provider'] == \"Illinois Department of Human Services (IDHS), Chapin Hall at the University of Chicago\"]\n",
    "\n",
    "overlap_names = list(set([(d['title'],d['data_provider'],d['data_provider_new']) for d in datasets if d['data_provider_new'] in d['title']]))\n",
    "\n",
    "\n"
   ]
  },
  {
   "cell_type": "code",
   "execution_count": 56,
   "metadata": {},
   "outputs": [
    {
     "data": {
      "text/plain": [
       "[('Annual Distress Database of the Deutsche Bundesbank',\n",
       "  'Deutsche Bundesbank',\n",
       "  'Deutsche Bundesbank'),\n",
       " ('Illinois Department of Corrections Person Relation Table',\n",
       "  'Illinois Department of Corrections',\n",
       "  'Illinois Department of Corrections'),\n",
       " ('Missouri Department of Higher Education (DHE) - Enrollments, 2006-2016',\n",
       "  'Missouri Department of Higher Education (DHE)',\n",
       "  'Missouri Department of Higher Education (DHE)'),\n",
       " ('US Department of Housing and Urban Development Program Microdata 2004-2016 - Individuals: Illinois',\n",
       "  'US Department of Housing and Urban Development',\n",
       "  'US Department of Housing and Urban Development'),\n",
       " ('Illinois Department of Corrections (DOC) Inmate Exits - 1990-2015',\n",
       "  'Illinois Department of Corrections',\n",
       "  'Illinois Department of Corrections'),\n",
       " ('Illinois Department of Employment Security (IDES) establishment data addendum to employer records - 2012-2015',\n",
       "  'Illinois Department of Employment Security',\n",
       "  'Illinois Department of Employment Security'),\n",
       " ('Missouri Department of Corrections (DOC) - Releases',\n",
       "  'Missouri Department of Corrections (DOC)',\n",
       "  'Missouri Department of Corrections (DOC)'),\n",
       " ('Missouri Department of Corrections (DOC) - Hashed SSN to Hashed MO DOC ID Crosswalk',\n",
       "  'Missouri Department of Corrections (DOC)',\n",
       "  'Missouri Department of Corrections (DOC)'),\n",
       " ('The Kansas City Star Full Text Business Section Articles - May 2016 - April 2018',\n",
       "  'The Kansas City Star',\n",
       "  'The Kansas City Star'),\n",
       " ('US Department of Housing and Urban Development Program Microdata 2004-2016 - Households: Illinois',\n",
       "  'US Department of Housing and Urban Development',\n",
       "  'US Department of Housing and Urban Development'),\n",
       " ('Missouri Department of Labor and Industrial Relations (DOLIR) Unemployment Insurance Claims',\n",
       "  'Missouri Department of Labor and Industrial Relations (DOLIR)',\n",
       "  'Missouri Department of Labor and Industrial Relations (DOLIR)'),\n",
       " ('State of Michigan', 'State of Michigan', 'State of Michigan'),\n",
       " ('US Department of Housing and Urban Development Program Microdata 2004-2016 - Households: New York',\n",
       "  'US Department of Housing and Urban Development',\n",
       "  'US Department of Housing and Urban Development'),\n",
       " ('Missouri Department of Higher Education (DHE) - Completions, 2006-2017',\n",
       "  'Missouri Department of Higher Education (DHE)',\n",
       "  'Missouri Department of Higher Education (DHE)'),\n",
       " ('Illinois Department of Employment Security (IDES) Unemployment Insurance (UI) wage records - 2005-2015',\n",
       "  'Illinois Department of Employment Security',\n",
       "  'Illinois Department of Employment Security'),\n",
       " ('State of Wisconsin data', 'State of Wisconsin', 'State of Wisconsin'),\n",
       " ('US Department of Housing and Urban Development Program Microdata 2004-2016 - Individuals: New York',\n",
       "  'US Department of Housing and Urban Development',\n",
       "  'US Department of Housing and Urban Development'),\n",
       " ('Illinois Department of Employment Security (IDES) Employer records - 2005-2015',\n",
       "  'Illinois Department of Employment Security',\n",
       "  'Illinois Department of Employment Security'),\n",
       " ('Health and Human Services data',\n",
       "  'Health and Human Services',\n",
       "  'Health and Human Services'),\n",
       " ('Illinois Department of Corrections (DOC) Parolee address data - 2009-2015',\n",
       "  'Illinois Department of Corrections',\n",
       "  'Illinois Department of Corrections'),\n",
       " ('Illinois Department of Corrections (DOC) Inmate Admissions 1990-2015',\n",
       "  'Illinois Department of Corrections',\n",
       "  'Illinois Department of Corrections'),\n",
       " ('Missouri Department of Labor and Industrial Relations (DOLIR) Unemployment Insurance Payments',\n",
       "  'Missouri Department of Labor and Industrial Relations (DOLIR)',\n",
       "  'Missouri Department of Labor and Industrial Relations (DOLIR)'),\n",
       " ('Missouri Department of Higher Education (DHE) - Term Registrations, 2006-2017',\n",
       "  'Missouri Department of Higher Education (DHE)',\n",
       "  'Missouri Department of Higher Education (DHE)'),\n",
       " ('Missouri Department of Corrections (DOC) - Classes',\n",
       "  'Missouri Department of Corrections (DOC)',\n",
       "  'Missouri Department of Corrections (DOC)')]"
      ]
     },
     "execution_count": 56,
     "metadata": {},
     "output_type": "execute_result"
    }
   ],
   "source": [
    "overlap_names"
   ]
  },
  {
   "cell_type": "code",
   "execution_count": null,
   "metadata": {},
   "outputs": [],
   "source": [
    "# remove numeric, leading and trailing punctuation, and whitespace\n"
   ]
  }
 ],
 "metadata": {
  "kernelspec": {
   "display_name": "Python 3",
   "language": "python",
   "name": "python3"
  },
  "language_info": {
   "codemirror_mode": {
    "name": "ipython",
    "version": 3
   },
   "file_extension": ".py",
   "mimetype": "text/x-python",
   "name": "python",
   "nbconvert_exporter": "python",
   "pygments_lexer": "ipython3",
   "version": "3.7.3"
  }
 },
 "nbformat": 4,
 "nbformat_minor": 2
}
