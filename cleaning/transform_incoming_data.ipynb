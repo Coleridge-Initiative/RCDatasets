{
 "cells": [
  {
   "cell_type": "code",
   "execution_count": 2,
   "metadata": {},
   "outputs": [],
   "source": [
    "import pandas as pd\n",
    "import json\n",
    "import re\n",
    "from string import punctuation\n",
    "import numpy as np"
   ]
  },
  {
   "cell_type": "code",
   "execution_count": 3,
   "metadata": {},
   "outputs": [],
   "source": [
    "ers_path = 'FY2014-19 Datasets for ERS Publications.xlsx'\n",
    "ers_df_list = []\n",
    "ers_xls = pd.ExcelFile(ers_path)\n",
    "for n in ers_xls.sheet_names:\n",
    "# for n in ['FY14', 'FY15']:\n",
    "    ers_pubs = pd.read_excel(ers_path, sheet_name = n,header = 1)\n",
    "    this_df = pd.DataFrame({'sheet_name':np.repeat(n,len(ers_pubs['Datasets']))\n",
    "          ,'datasets':ers_pubs['Datasets']})\n",
    "    ers_df_list.append(this_df)"
   ]
  },
  {
   "cell_type": "code",
   "execution_count": 4,
   "metadata": {},
   "outputs": [],
   "source": [
    "ers_df = pd.concat(ers_df_list)\n",
    "ers_df = ers_df.drop_duplicates()\n",
    "ers_df = ers_df.dropna(subset=['datasets'])"
   ]
  },
  {
   "cell_type": "code",
   "execution_count": 10,
   "metadata": {},
   "outputs": [],
   "source": [
    "ers_datasets = ers_df.datasets.unique().tolist()\n",
    "# ers_datasets[0:1]"
   ]
  },
  {
   "cell_type": "code",
   "execution_count": 11,
   "metadata": {},
   "outputs": [],
   "source": [
    "flatten = lambda l: [item for sublist in l for item in sublist]"
   ]
  },
  {
   "cell_type": "code",
   "execution_count": 21,
   "metadata": {},
   "outputs": [],
   "source": [
    "a = list(set([b.strip() for b in flatten([e.split('▪') for e in  ers_datasets]) if b not in ['',' ']]))\n",
    "b = [{'dataset_name':b} for b in a]\n",
    "\n",
    "# json.dumps(a,'usda_datasets_dirty.json',indent = 2)\n",
    "with open('usda_datasets_dirty.json', 'w') as outfile:\n",
    "    json.dump(b, outfile,indent = 2)"
   ]
  },
  {
   "cell_type": "code",
   "execution_count": null,
   "metadata": {},
   "outputs": [],
   "source": []
  },
  {
   "cell_type": "code",
   "execution_count": null,
   "metadata": {},
   "outputs": [],
   "source": [
    "flatten = lambda l: [item for sublist in l for item in sublist]"
   ]
  },
  {
   "cell_type": "code",
   "execution_count": null,
   "metadata": {},
   "outputs": [],
   "source": [
    "ers_datasets = ers_pubs['Datasets'].unique().tolist()\n",
    "# [e.replace()ers_datasets\n",
    "# [re.sub('[^A-Za-z0-9]+', ' ', e).strip() for e in ers_datasets]\n",
    "# [re.sub('▪', ',', e).strip(punctuation) for e in ers_datasets][]\n",
    "ers_datasets_clean = [f.replace('\\n',' ').strip() for f in flatten([e.split('▪') for e in ers_datasets]) if f not in ['',' ']]\n",
    "ers_datasets_clean\n",
    "\n"
   ]
  },
  {
   "cell_type": "code",
   "execution_count": null,
   "metadata": {},
   "outputs": [],
   "source": [
    "from string import punctuation\n",
    "s = '.$ABC-799-99,#'\n",
    "\n",
    "print(s.strip(punctuation))"
   ]
  },
  {
   "cell_type": "code",
   "execution_count": null,
   "metadata": {},
   "outputs": [],
   "source": []
  },
  {
   "cell_type": "code",
   "execution_count": null,
   "metadata": {},
   "outputs": [],
   "source": []
  },
  {
   "cell_type": "code",
   "execution_count": null,
   "metadata": {},
   "outputs": [],
   "source": []
  }
 ],
 "metadata": {
  "kernelspec": {
   "display_name": "Python 3",
   "language": "python",
   "name": "python3"
  },
  "language_info": {
   "codemirror_mode": {
    "name": "ipython",
    "version": 3
   },
   "file_extension": ".py",
   "mimetype": "text/x-python",
   "name": "python",
   "nbconvert_exporter": "python",
   "pygments_lexer": "ipython3",
   "version": "3.7.3"
  }
 },
 "nbformat": 4,
 "nbformat_minor": 2
}
