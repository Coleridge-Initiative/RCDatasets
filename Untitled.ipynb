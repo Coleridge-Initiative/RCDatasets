{
 "cells": [
  {
   "cell_type": "code",
   "execution_count": 11,
   "metadata": {},
   "outputs": [],
   "source": [
    "import json\n"
   ]
  },
  {
   "cell_type": "code",
   "execution_count": 12,
   "metadata": {},
   "outputs": [],
   "source": [
    "filename = \"datasets.json\"\n",
    "#filename = \"test.json\"\n",
    "\n",
    "with open(filename, \"r\") as f:\n",
    "    datasets = json.load(f)\n"
   ]
  },
  {
   "cell_type": "code",
   "execution_count": 13,
   "metadata": {},
   "outputs": [
    {
     "name": "stdout",
     "output_type": "stream",
     "text": [
      "dataset-493\n"
     ]
    }
   ],
   "source": [
    "for d in datasets:\n",
    "    if 'original' in d.keys():\n",
    "        if 'joins_to' in d['original'].keys():\n",
    "            for ds in d['original']['joins_to']:\n",
    "                if ds not in list(set([f['id'] for f in datasets])):\n",
    "                    print(ds)\n",
    "#             print(d)"
   ]
  },
  {
   "cell_type": "code",
   "execution_count": 14,
   "metadata": {},
   "outputs": [
    {
     "name": "stdout",
     "output_type": "stream",
     "text": [
      "423\n"
     ]
    }
   ],
   "source": [
    "# datasets[]\n",
    "for i,d in enumerate(datasets):\n",
    "    if d['id'] == \"dataset-428\":\n",
    "        print(i)"
   ]
  },
  {
   "cell_type": "code",
   "execution_count": 15,
   "metadata": {},
   "outputs": [
    {
     "data": {
      "text/plain": [
       "{'id': 'dataset-428',\n",
       " 'provider': 'National Science Foundation',\n",
       " 'title': 'Higher Education Research and Development Survey',\n",
       " 'alt_title': ['HERD', 'Federal RePORTER'],\n",
       " 'url': 'https://www.nsf.gov/statistics/srvyherd/',\n",
       " 'description': 'The survey collects information on R&D expenditures by field of research and source of funds and also gathers information on types of research, expenses, and headcounts of R&D personnel.',\n",
       " 'original': {'joins_to': ['dataset-493']}}"
      ]
     },
     "execution_count": 15,
     "metadata": {},
     "output_type": "execute_result"
    }
   ],
   "source": [
    "datasets[423]"
   ]
  },
  {
   "cell_type": "code",
   "execution_count": 16,
   "metadata": {},
   "outputs": [
    {
     "name": "stdout",
     "output_type": "stream",
     "text": [
      "dataset-493\n"
     ]
    }
   ],
   "source": [
    "for dataset in datasets:\n",
    "    if 'original' in dataset.keys():\n",
    "        if 'joins_to' in dataset['original'].keys():\n",
    "            for ds in dataset['original']['joins_to']:\n",
    "                if ds not in list(set([f['id'] for f in datasets])):\n",
    "                    print(ds)\n",
    "                    \n",
    "#     if 'orig'\n",
    "#     if not set([\"id\", \"title\", \"provider\"]).issubset(dataset.keys()):\n",
    "#         raise Exception(\"{}: missing required fields\".format(dataset[\"id\"]))\n"
   ]
  },
  {
   "cell_type": "code",
   "execution_count": null,
   "metadata": {},
   "outputs": [],
   "source": []
  }
 ],
 "metadata": {
  "kernelspec": {
   "display_name": "Python 3",
   "language": "python",
   "name": "python3"
  },
  "language_info": {
   "codemirror_mode": {
    "name": "ipython",
    "version": 3
   },
   "file_extension": ".py",
   "mimetype": "text/x-python",
   "name": "python",
   "nbconvert_exporter": "python",
   "pygments_lexer": "ipython3",
   "version": "3.7.3"
  }
 },
 "nbformat": 4,
 "nbformat_minor": 2
}
